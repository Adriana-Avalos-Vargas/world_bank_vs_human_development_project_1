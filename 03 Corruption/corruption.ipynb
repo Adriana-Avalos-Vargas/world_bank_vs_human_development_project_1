{
 "cells": [
  {
   "cell_type": "markdown",
   "metadata": {},
   "source": [
    "#### Importing Dependencies"
   ]
  },
  {
   "cell_type": "code",
   "execution_count": 1,
   "metadata": {},
   "outputs": [],
   "source": [
    "import pandas as pd\n",
    "import numpy as np"
   ]
  },
  {
   "cell_type": "markdown",
   "metadata": {},
   "source": [
    "##### Reading csv file from its path"
   ]
  },
  {
   "cell_type": "code",
   "execution_count": 2,
   "metadata": {
    "scrolled": true
   },
   "outputs": [],
   "source": [
    "file1 = \"CPI_DATA/CPI_2005.csv\"\n",
    "file2 = \"CPI_DATA/CPI_2010.csv\"\n",
    "file3 = \"CPI_DATA/CPI_2015.csv\"\n",
    "file4 = \"CPI_DATA/CPI_2017.csv\""
   ]
  },
  {
   "cell_type": "code",
   "execution_count": 3,
   "metadata": {
    "scrolled": false
   },
   "outputs": [],
   "source": [
    "cpi_df = pd.read_csv(file1)\n",
    "\n",
    "cpi_df = cpi_df[[\"iso\", \"score\"]]\n",
    "cpi_df.rename(columns = {\"score\": \"cpi\"}, inplace = True)\n",
    "cpi_df[\"Year\"] = 2005"
   ]
  },
  {
   "cell_type": "code",
   "execution_count": 4,
   "metadata": {},
   "outputs": [],
   "source": [
    "cpi_df2 = pd.read_csv(file2)\n",
    "\n",
    "cpi_df2 = cpi_df2[[\"iso\", \"score\"]]\n",
    "cpi_df2.rename(columns = {\"score\": \"cpi\"}, inplace = True)\n",
    "cpi_df2[\"Year\"] = 2010"
   ]
  },
  {
   "cell_type": "code",
   "execution_count": 5,
   "metadata": {},
   "outputs": [],
   "source": [
    "cpi_df3 = pd.read_csv(file3)\n",
    "\n",
    "cpi_df3 = cpi_df3[[\"Country Code\", \"CPI 2015 Score\"]]\n",
    "cpi_df3.rename(columns = {\"Country Code\": \"iso\",\n",
    "                          \"CPI 2015 Score\": \"cpi\"}, inplace = True)\n",
    "cpi_df3[\"Year\"] = 2015\n",
    "cpi_df3[\"cpi\"] = cpi_df3[\"cpi\"].astype(float)\n",
    "cpi_df3[\"cpi\"] = cpi_df3[\"cpi\"] / 10"
   ]
  },
  {
   "cell_type": "code",
   "execution_count": 6,
   "metadata": {},
   "outputs": [],
   "source": [
    "cpi_df4 = pd.read_csv(file4, encoding = \"ISO-8859-1\")\n",
    "cpi_df4 = cpi_df4.iloc[2:]\n",
    "cpi_df4 = cpi_df4[[\"Unnamed: 1\", \"Unnamed: 3\"]]\n",
    "cpi_df4.rename(columns = {\"Unnamed: 1\": \"iso\", \n",
    "                          \"Unnamed: 3\": \"cpi\"}, inplace = True)\n",
    "cpi_df4 = cpi_df4.reset_index(drop=True)\n",
    "cpi_df4[\"Year\"] = 2017\n",
    "cpi_df4[\"cpi\"] = cpi_df4[\"cpi\"].astype(float)\n",
    "cpi_df4[\"cpi\"] = cpi_df4[\"cpi\"] / 10"
   ]
  },
  {
   "cell_type": "code",
   "execution_count": 7,
   "metadata": {
    "scrolled": true
   },
   "outputs": [],
   "source": [
    "frames = [cpi_df, cpi_df2, cpi_df3, cpi_df4]\n",
    "cpi_final = pd.concat(frames)"
   ]
  },
  {
   "cell_type": "code",
   "execution_count": 9,
   "metadata": {},
   "outputs": [],
   "source": [
    "cpi_final.to_csv('CPI_DATA/CPI_final_data.csv', index = False)"
   ]
  }
 ],
 "metadata": {
  "kernelspec": {
   "display_name": "Python 3",
   "language": "python",
   "name": "python3"
  },
  "language_info": {
   "codemirror_mode": {
    "name": "ipython",
    "version": 3
   },
   "file_extension": ".py",
   "mimetype": "text/x-python",
   "name": "python",
   "nbconvert_exporter": "python",
   "pygments_lexer": "ipython3",
   "version": "3.7.6"
  }
 },
 "nbformat": 4,
 "nbformat_minor": 4
}
